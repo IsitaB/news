{
 "cells": [
  {
   "cell_type": "code",
   "execution_count": null,
   "metadata": {},
   "outputs": [],
   "source": [
    "# source: https://taejoon-kim.medium.com/clickbait-headline-detector-using-nlp-and-ml-algorithms-23c248c945ff "
   ]
  },
  {
   "cell_type": "code",
   "execution_count": 1,
   "metadata": {},
   "outputs": [
    {
     "name": "stderr",
     "output_type": "stream",
     "text": [
      "[nltk_data] Downloading package stopwords to /Users/admin/nltk_data...\n",
      "[nltk_data]   Package stopwords is already up-to-date!\n"
     ]
    }
   ],
   "source": [
    "import pandas as pd\n",
    "import matplotlib.pyplot as plt\n",
    "import seaborn as sns\n",
    "\n",
    "from sklearn.model_selection import train_test_split\n",
    "from sklearn.metrics import classification_report\n",
    "from sklearn.naive_bayes import MultinomialNB\n",
    "\n",
    "from sklearn.feature_extraction.text import TfidfVectorizer\n",
    "from sklearn.feature_extraction.text import TfidfTransformer\n",
    "\n",
    "import nltk\n",
    "nltk.download('stopwords')\n",
    "from nltk.corpus import stopwords\n",
    "from nltk.tokenize import RegexpTokenizer\n",
    "\n",
    "import pickle"
   ]
  },
  {
   "cell_type": "code",
   "execution_count": 2,
   "metadata": {
    "scrolled": true
   },
   "outputs": [],
   "source": [
    "data = pd.read_csv('/Users/admin/Desktop/CS157C/clickbait_headline_detector/Data/clickbait_data.csv')"
   ]
  },
  {
   "cell_type": "markdown",
   "metadata": {},
   "source": [
    "Tokenization"
   ]
  },
  {
   "cell_type": "code",
   "execution_count": 3,
   "metadata": {},
   "outputs": [],
   "source": [
    "# omit stopwords\n",
    "stop_words=set(stopwords.words(\"english\"))"
   ]
  },
  {
   "cell_type": "code",
   "execution_count": 4,
   "metadata": {},
   "outputs": [],
   "source": [
    "X_train, X_test, y_train, y_test = train_test_split(data['headline'], data['clickbait'], random_state=0)\n",
    "tfidf = TfidfVectorizer(stop_words = stop_words, ngram_range = (1,2))\n",
    "\n",
    "tfidf_text_train = tfidf.fit_transform(X_train)\n",
    "tfidf_text_test = tfidf.transform(X_test)"
   ]
  },
  {
   "cell_type": "code",
   "execution_count": 5,
   "metadata": {},
   "outputs": [
    {
     "name": "stdout",
     "output_type": "stream",
     "text": [
      "Train classification report               precision    recall  f1-score   support\n",
      "\n",
      "           0       1.00      1.00      1.00     11979\n",
      "           1       1.00      1.00      1.00     12021\n",
      "\n",
      "    accuracy                           1.00     24000\n",
      "   macro avg       1.00      1.00      1.00     24000\n",
      "weighted avg       1.00      1.00      1.00     24000\n",
      "\n",
      "Test classification report               precision    recall  f1-score   support\n",
      "\n",
      "           0       0.97      0.96      0.96      4022\n",
      "           1       0.96      0.97      0.96      3978\n",
      "\n",
      "    accuracy                           0.96      8000\n",
      "   macro avg       0.96      0.96      0.96      8000\n",
      "weighted avg       0.96      0.96      0.96      8000\n",
      "\n"
     ]
    }
   ],
   "source": [
    "model = MultinomialNB(alpha = .05)\n",
    "\n",
    "model.fit(tfidf_text_train, y_train)\n",
    "\n",
    "train_preds = model.predict(tfidf_text_train)\n",
    "test_preds = model.predict(tfidf_text_test)\n",
    "\n",
    "print(f'Train classification report {classification_report(y_train, train_preds)}')\n",
    "print(f'Test classification report {classification_report(y_test, test_preds)}')"
   ]
  },
  {
   "cell_type": "code",
   "execution_count": 6,
   "metadata": {},
   "outputs": [],
   "source": [
    "pickle.dump(model, open('clickbaitmodel.pkl', \"wb\"))\n",
    "pickle.dump(tfidf, open('tfidf.pkl','wb'))"
   ]
  },
  {
   "cell_type": "code",
   "execution_count": null,
   "metadata": {},
   "outputs": [],
   "source": []
  }
 ],
 "metadata": {
  "kernelspec": {
   "display_name": "cs185c",
   "language": "python",
   "name": "cs185c"
  },
  "language_info": {
   "codemirror_mode": {
    "name": "ipython",
    "version": 3
   },
   "file_extension": ".py",
   "mimetype": "text/x-python",
   "name": "python",
   "nbconvert_exporter": "python",
   "pygments_lexer": "ipython3",
   "version": "3.7.9"
  },
  "toc": {
   "base_numbering": 1,
   "nav_menu": {},
   "number_sections": true,
   "sideBar": true,
   "skip_h1_title": false,
   "title_cell": "Table of Contents",
   "title_sidebar": "Contents",
   "toc_cell": false,
   "toc_position": {},
   "toc_section_display": true,
   "toc_window_display": false
  }
 },
 "nbformat": 4,
 "nbformat_minor": 4
}
